{
  "nbformat": 4,
  "nbformat_minor": 0,
  "metadata": {
    "colab": {
      "provenance": [],
      "authorship_tag": "ABX9TyO5RjVHkw9KWyVr8g4prA0l",
      "include_colab_link": true
    },
    "kernelspec": {
      "name": "python3",
      "display_name": "Python 3"
    },
    "language_info": {
      "name": "python"
    }
  },
  "cells": [
    {
      "cell_type": "markdown",
      "metadata": {
        "id": "view-in-github",
        "colab_type": "text"
      },
      "source": [
        "<a href=\"https://colab.research.google.com/github/chitrangada-juneja/CSC-380HWS/blob/Homeworks/CS380_HW3.ipynb\" target=\"_parent\"><img src=\"https://colab.research.google.com/assets/colab-badge.svg\" alt=\"Open In Colab\"/></a>"
      ]
    },
    {
      "cell_type": "markdown",
      "source": [
        "Q7.\n"
      ],
      "metadata": {
        "id": "1kSVqQ1pLTyf"
      }
    },
    {
      "cell_type": "code",
      "source": [
        "import numpy as np\n",
        "import matplotlib.pyplot as plt\n",
        "\n",
        "m=100;\n",
        "n=1000;\n",
        "mu=0.2;\n",
        "sample_means=np.zeros((m,n));\n",
        "\n",
        "for i in range (m):\n",
        "    #generating n samples from bernoulli distribution with mu 0.2\n",
        "    samples=np.random.binomial(1,mu,n);\n",
        "    sample_means[i, :]= np.cumsum(samples) / np.arange(1, n+1);\n",
        "\n",
        "#plotting\n",
        "plt.figure(figsize= (10, 5));\n",
        "for i in range (m):\n",
        "    plt.plot(np.arange(1,n+1), sample_means[i], alpha=0.1, color='black' );\n",
        "\n",
        "\n",
        "plt.axhline(y=mu, color='red', linestyle='-',label=\"μ==0.2\")\n",
        "plt.xlabel('N')\n",
        "plt.ylabel('Sample Mean')\n",
        "plt.title('Q7: LLN: Sample Mean Trajectories ')\n",
        "plt.legend()\n",
        "plt.show()\n",
        "\n"
      ],
      "metadata": {
        "id": "Sy4mCvOyLXz0"
      },
      "execution_count": null,
      "outputs": []
    },
    {
      "cell_type": "markdown",
      "source": [
        "Q8.\n"
      ],
      "metadata": {
        "id": "rqA_SOxGLanS"
      }
    },
    {
      "cell_type": "code",
      "source": [
        "import numpy as np\n",
        "import matplotlib.pyplot as plt\n",
        "from scipy.stats import norm\n",
        "\n",
        "mu=0.05\n",
        "sample_sizes=[10,100,1000,10000]  #different sample sizes\n",
        "repeats=1000 #number of times to repeat sampling\n",
        "\n",
        "plt.figure(figsize=(8, 5)) #size of the figure\n",
        "\n",
        "index=0\n",
        "\n",
        "for n in sample_sizes:\n",
        "    index+=1\n",
        "\n",
        "    sample_means=[]\n",
        "    #generating n samples in bernoulli , and computing sample mean\n",
        "    for i in range (repeats):\n",
        "        samples=np.random.binomial(1, mu,n)\n",
        "        sample_means.append(np.mean(samples))\n",
        "\n",
        "    plt.subplot(1,4,index)\n",
        "    plt.hist(sample_means, bins=40, density=True, alpha=0.5, color='blue')\n",
        "    #plotting the histogram and the line of gaussian dsitribution\n",
        "    suggested_std=np.sqrt(mu *(1-mu)/n)\n",
        "    x_vals= np.linspace(min(sample_means), max(sample_means),50 )\n",
        "\n",
        "    gaussian_pdf=norm.pdf(x_vals,mu, suggested_std )  #calculating gaussian pdf\n",
        "    plt.plot(x_vals, gaussian_pdf, color='red',lw=2, label='Gaussian PDF' )\n",
        "    plt.title(f'Sample size N={n}')\n",
        "    plt.xlabel('Sample Mean')\n",
        "    plt.ylabel('Density')\n",
        "\n",
        "    plt.legend()\n",
        "plt.show()"
      ],
      "metadata": {
        "id": "KeWEHDA3LcH4"
      },
      "execution_count": null,
      "outputs": []
    },
    {
      "cell_type": "markdown",
      "source": [
        "Q9."
      ],
      "metadata": {
        "id": "GAw72r1YLm4P"
      }
    },
    {
      "cell_type": "code",
      "source": [
        "import numpy as np\n",
        "\n",
        "np.random.seed(0)\n",
        "\n",
        "mu=[0,0]\n",
        "sigma=1\n",
        "rho=0.6\n",
        "cov_matrix=[[sigma, rho], [rho, sigma]]\n",
        "\n",
        "n=500   # given n=500 samples\n",
        "\n",
        "#using the function suggested\n",
        "data= np.random.multivariate_normal(mu, cov_matrix, n)\n",
        "#given entry (0,0) is x and entry (1,1) is y\n",
        "\n",
        "x= data[:,0]  # first column of each row is X\n",
        "y= data[:,1] #second column of each row is Y\n",
        "\n",
        "x_bar= np.mean(x)\n",
        "y_bar= np.mean(y)\n",
        "\n",
        "num=  np.sum ((x-x_bar) *(y-y_bar))\n",
        "dom= np.sqrt(np.sum((x-x_bar) ** 2)  * np.sum((y-y_bar) ** 2))\n",
        "estimator= num/dom\n",
        "print(estimator)\n"
      ],
      "metadata": {
        "colab": {
          "base_uri": "https://localhost:8080/"
        },
        "id": "Ttm1dHIhLoRR",
        "outputId": "aab645bd-0f03-4045-fdf5-73100f9d9886"
      },
      "execution_count": 1,
      "outputs": [
        {
          "output_type": "stream",
          "name": "stdout",
          "text": [
            "0.5826300529635126\n"
          ]
        }
      ]
    },
    {
      "cell_type": "markdown",
      "source": [
        "Q10.\n"
      ],
      "metadata": {
        "id": "vbNWNHP6L3R6"
      }
    },
    {
      "cell_type": "code",
      "source": [
        "import numpy as np\n",
        "import matplotlib.pyplot as plt\n",
        "\n",
        "np.random.seed(0)\n",
        "\n",
        "mu=[0,0]\n",
        "sigma=1\n",
        "rho=0.6\n",
        "cov_matrix=[[sigma, rho], [rho, sigma]]\n",
        "\n",
        "n=500   # given n=500 samples\n",
        "\n",
        "m=5000\n",
        "estimates=[]\n",
        "for i in range(m):\n",
        "    data = np.random.multivariate_normal(mu, cov_matrix, n)\n",
        "    x = data[:, 0]  # first column of each row is X\n",
        "    y = data[:, 1]  # second column of each row is Y\n",
        "\n",
        "    x_bar = np.mean(x)\n",
        "    y_bar = np.mean(y)\n",
        "    num = np.sum((x - x_bar) * (y - y_bar))\n",
        "    dom = np.sqrt(np.sum((x - x_bar) ** 2) * np.sum((y - y_bar) ** 2))\n",
        "    estimator = num / dom\n",
        "\n",
        "    estimates.append(estimator)\n",
        "\n",
        "#generating historgram\n",
        "\n",
        "plt.figure(figsize=(8,5))\n",
        "plt.hist(estimates, bins=30, color='blue',edgecolor='black', alpha=0.5)\n",
        "plt.title(\"Histogram for Q10\")\n",
        "plt.xlabel(\"Estimated Correlation\")\n",
        "plt.ylabel('Frequency')\n",
        "plt.show()\n",
        "\n"
      ],
      "metadata": {
        "id": "mIMTdV8aL4Wm"
      },
      "execution_count": null,
      "outputs": []
    },
    {
      "cell_type": "markdown",
      "source": [
        "Q11."
      ],
      "metadata": {
        "id": "T0DeLpMUL7BZ"
      }
    },
    {
      "cell_type": "code",
      "source": [
        "import numpy as np\n",
        "np.random.seed(0)\n",
        "\n",
        "mu=[0,0]\n",
        "sigma=1\n",
        "rho=0.6\n",
        "cov_matrix=[[sigma, rho], [rho, sigma]]\n",
        "\n",
        "n=500   # given n=500 samples\n",
        "\n",
        "m=5000\n",
        "estimates=[]\n",
        "for i in range(m):\n",
        "    data = np.random.multivariate_normal(mu, cov_matrix, n)\n",
        "    x = data[:, 0]  # first column of each row is X\n",
        "    y = data[:, 1]  # second column of each row is Y\n",
        "\n",
        "    x_bar = np.mean(x)\n",
        "    y_bar = np.mean(y)\n",
        "    num = np.sum((x - x_bar) * (y - y_bar))\n",
        "    dom = np.sqrt(np.sum((x - x_bar) ** 2) * np.sum((y - y_bar) ** 2))\n",
        "    estimator = num / dom\n",
        "\n",
        "    estimates.append(estimator)\n",
        "\n",
        "\n",
        "#calculating diff\n",
        "diff= [((estimator -rho) **2) for estimator in estimates]\n",
        "\n",
        "mse_estimate= np.mean(diff)\n",
        "print(mse_estimate)\n"
      ],
      "metadata": {
        "id": "hmelFbtIL8AC"
      },
      "execution_count": null,
      "outputs": []
    }
  ]
}
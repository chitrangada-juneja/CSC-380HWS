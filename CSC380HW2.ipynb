{
  "nbformat": 4,
  "nbformat_minor": 0,
  "metadata": {
    "colab": {
      "provenance": [],
      "authorship_tag": "ABX9TyPKlJQjj5sfJMVURJYRLWBW",
      "include_colab_link": true
    },
    "kernelspec": {
      "name": "python3",
      "display_name": "Python 3"
    },
    "language_info": {
      "name": "python"
    }
  },
  "cells": [
    {
      "cell_type": "markdown",
      "metadata": {
        "id": "view-in-github",
        "colab_type": "text"
      },
      "source": [
        "<a href=\"https://colab.research.google.com/github/chitrangada-juneja/CSC-380HWS/blob/Homeworks/CSC380HW2.ipynb\" target=\"_parent\"><img src=\"https://colab.research.google.com/assets/colab-badge.svg\" alt=\"Open In Colab\"/></a>"
      ]
    },
    {
      "cell_type": "code",
      "execution_count": 8,
      "metadata": {
        "colab": {
          "base_uri": "https://localhost:8080/"
        },
        "id": "kgCYpkw5o7-l",
        "outputId": "0bc97ce7-52e0-4ec3-dc98-cb78495b968a"
      },
      "outputs": [
        {
          "output_type": "stream",
          "name": "stdout",
          "text": [
            "P(X>-2)==  0.8943502263331446\n"
          ]
        }
      ],
      "source": [
        "# Author: Chitrangada Juneja\n",
        "#Q8\n",
        "from scipy.stats import norm\n",
        "\n",
        "#defining the parameters of the distribution\n",
        "\n",
        "mu= 3 #given\n",
        "variance= 16 #given\n",
        "std_deviation=4 #calculated from variance\n",
        "\n",
        "# P(X >-2)= 1- P(X<= -2)\n",
        "#calculating cdf\n",
        "\n",
        "#creating normal distribution\n",
        "distribute= norm(loc=mu, scale=std_deviation);\n",
        "#calculating cdf and subtracting from 1\n",
        "\n",
        "answer= 1- distribute.cdf(-2);\n",
        "print(\"P(X>-2)== \", answer);\n",
        "\n"
      ]
    },
    {
      "cell_type": "code",
      "source": [
        "# Author: Chitrangada Juneja\n",
        "#Q9\n",
        "from scipy.stats import norm\n",
        "\n",
        "#defining the parameters of the distribution\n",
        "\n",
        "mu= 3 #given\n",
        "variance= 16 #given\n",
        "std_deviation=4 #calculated from variance\n",
        "#calculating x such that P(X>x)=0.05 or P(X<=x)=0.95\n",
        "#using the same strategy , but a different function of scipy\n",
        "\n",
        "#creating normal distribution\n",
        "distribute= norm(loc=mu, scale=std_deviation)\n",
        "\n",
        "x= distribute.ppf(0.95)\n",
        "\n",
        "print(\"for P(X >x)=0.05, x is \",x);\n"
      ],
      "metadata": {
        "colab": {
          "base_uri": "https://localhost:8080/"
        },
        "id": "n3drYQfco9fZ",
        "outputId": "4adf1ed4-916d-4e37-8c78-7ece7bc6df6a"
      },
      "execution_count": 6,
      "outputs": [
        {
          "output_type": "stream",
          "name": "stdout",
          "text": [
            "for P(X >x)=0.05, x is  9.57941450780589\n"
          ]
        }
      ]
    },
    {
      "cell_type": "code",
      "source": [
        "# Author: Chitrangada Juneja\n",
        "#Q10\n",
        "from scipy.stats import norm\n",
        "\n",
        "#defining the parameters of the distribution\n",
        "\n",
        "mu= 3 #given\n",
        "variance= 16 #given\n",
        "std_deviation=4 #calculated from variance\n",
        "# we can break down the required P into 2 parts\n",
        "# we find cdf of P (X <4) and P(X<0) and subtract both\n",
        "# this is because both represent the area under PDF from\n",
        "#- infinity to 4 and then to 0, respectively. a difference\n",
        "#gives us the area in between that range. thus, the pdf helps us\n",
        "#understand how to calculate this range's Probability.\n",
        "\n",
        "#creating normal distribution\n",
        "distribute= norm(loc=mu, scale=std_deviation)\n",
        "cdf1= distribute.cdf(4)\n",
        "cdf2=distribute.cdf(0)\n",
        "answer= cdf1-cdf2\n",
        "\n",
        "print(\"the P (0 <= X < 4) = \",answer)\n",
        "\n",
        "\n",
        "\n",
        "\n",
        "\n"
      ],
      "metadata": {
        "colab": {
          "base_uri": "https://localhost:8080/"
        },
        "id": "vipCbnHIpWwu",
        "outputId": "914a215a-18d9-439f-a8aa-24d0dbe65d39"
      },
      "execution_count": 7,
      "outputs": [
        {
          "output_type": "stream",
          "name": "stdout",
          "text": [
            "the P (0 <= X < 4) =  0.3720789733060555\n"
          ]
        }
      ]
    },
    {
      "cell_type": "code",
      "source": [
        "# Author: Chitrangada Juneja\n",
        "#Q11\n",
        "import numpy as np\n",
        "from scipy.stats import norm\n",
        "import matplotlib.pyplot as plt\n",
        "\n",
        "\n",
        "mean=70   #given\n",
        "std_deviation=2 #given\n",
        "\n",
        "# a range of vals generated from 68 (inclusive to 76 (xclusive)\n",
        "#with step val=2\n",
        "range= np.arange(68,76,2)\n",
        "#array of pdfs of every number in the range\n",
        "x_pdf=norm.pdf(range, loc=mean, scale=std_deviation)\n",
        "\n",
        "#creating the bar chart\n",
        "plt.bar(range,x_pdf, width=1, color='pink',label='BAR Chart')\n",
        "#creating the curve\n",
        "\n",
        "smaller_x=np.arange(68,76,0.01)\n",
        "curve_pdf=norm.pdf(smaller_x,loc=mean, scale=std_deviation)\n",
        "\n",
        "#plotting the line\n",
        "plt.plot(smaller_x, curve_pdf, color='red',label='PDF Curve',linewidth='1')\n",
        "plt.xlabel('x values')\n",
        "plt.ylabel('PDF values')\n",
        "plt.title(\"Bar chart and PDF Curve of specified range\")\n",
        "\n",
        "#displaying\n",
        "plt.show()\n"
      ],
      "metadata": {
        "colab": {
          "base_uri": "https://localhost:8080/",
          "height": 472
        },
        "id": "PNXc2DtzpbEz",
        "outputId": "1da3d1ea-86c4-4ce2-e07a-1be2868944b3"
      },
      "execution_count": 5,
      "outputs": [
        {
          "output_type": "display_data",
          "data": {
            "text/plain": [
              "<Figure size 640x480 with 1 Axes>"
            ],
            "image/png": "[encoded data removed]"
          },
          "metadata": {}
        }
      ]
    },
    {
      "cell_type": "code",
      "source": [
        "# Author: Chitrangada Juneja\n",
        "#Q12\n",
        "import numpy as np\n",
        "from scipy.stats import norm\n",
        "\n",
        "mean=70\n",
        "standard_dev=2\n",
        "x_vals=np.arange(68,76,0.1) #where 0.1 is delta x\n",
        "#calculating pdf\n",
        "pdf_vals=norm.pdf(x_vals, loc=mean, scale=standard_dev)\n",
        "\n",
        "#now we multiply each term as specified , and add them all up\n",
        "\n",
        "probability= np.sum(pdf_vals*0.1);\n",
        "print(\"P( 68<= X <76 ) approximated using Riemann's sum= \", probability)"
      ],
      "metadata": {
        "colab": {
          "base_uri": "https://localhost:8080/"
        },
        "id": "n11Mx4rWpfIq",
        "outputId": "9f3f1ca2-8bcb-4c78-9501-9ccdb2cfad2a"
      },
      "execution_count": 4,
      "outputs": [
        {
          "output_type": "stream",
          "name": "stdout",
          "text": [
            "P( 68<= X <76 ) approximated using Riemann's sum=  0.8458801359575783\n"
          ]
        }
      ]
    },
    {
      "cell_type": "code",
      "source": [
        "# Author: Chitrangada Juneja\n",
        "#Q13\n",
        "import numpy as np\n",
        "from scipy.stats import norm\n",
        "\n",
        "mean=70\n",
        "standard_dev=2\n",
        "x_vals=np.arange(68,76,0.01) #where 0.01 is delta x\n",
        "#calculating pdf\n",
        "pdf_vals=norm.pdf(x_vals, loc=mean, scale=standard_dev)\n",
        "\n",
        "#now we multiply each term as specified , and add them all up\n",
        "\n",
        "probability= np.sum(pdf_vals*0.01);\n",
        "print(\"P( 68<= X <76 ) approximated using Riemann's sum= \", probability)\n"
      ],
      "metadata": {
        "colab": {
          "base_uri": "https://localhost:8080/"
        },
        "id": "ZmhsvmTppkvv",
        "outputId": "45ed75eb-c366-437c-f0ba-49971e27a154"
      },
      "execution_count": 3,
      "outputs": [
        {
          "output_type": "stream",
          "name": "stdout",
          "text": [
            "P( 68<= X <76 ) approximated using Riemann's sum=  0.8405881634216809\n"
          ]
        }
      ]
    },
    {
      "cell_type": "code",
      "source": [
        "# Author: Chitrangada Juneja\n",
        "#Q14\n",
        "import numpy as np\n",
        "from scipy.stats import norm\n",
        "\n",
        "mean=70\n",
        "standard_dev=2\n",
        "x_vals=np.arange(20,120,0.01) #where 0.01 is delta x\n",
        "#calculating pdf\n",
        "pdf_vals=norm.pdf(x_vals, loc=mean, scale=standard_dev)\n",
        "\n",
        "#now we multiply each term as specified , and add them all up\n",
        "\n",
        "probability= np.sum(pdf_vals*0.01);\n",
        "print(\"P( 20<= X <120 ) approximated using Riemann's sum= \", probability)"
      ],
      "metadata": {
        "colab": {
          "base_uri": "https://localhost:8080/"
        },
        "id": "uubyDf-vpoI4",
        "outputId": "014a0e22-fdd7-48a6-f66f-b5f6ce39867d"
      },
      "execution_count": 2,
      "outputs": [
        {
          "output_type": "stream",
          "name": "stdout",
          "text": [
            "P( 20<= X <120 ) approximated using Riemann's sum=  0.9999999999998438\n"
          ]
        }
      ]
    }
  ]
}
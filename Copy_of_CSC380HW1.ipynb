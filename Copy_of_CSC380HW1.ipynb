{
  "nbformat": 4,
  "nbformat_minor": 0,
  "metadata": {
    "colab": {
      "provenance": [],
      "authorship_tag": "ABX9TyNC5zuQh5jSsogXyEXpt+Me",
      "include_colab_link": true
    },
    "kernelspec": {
      "name": "python3",
      "display_name": "Python 3"
    },
    "language_info": {
      "name": "python"
    }
  },
  "cells": [
    {
      "cell_type": "markdown",
      "metadata": {
        "id": "view-in-github",
        "colab_type": "text"
      },
      "source": [
        "<a href=\"https://colab.research.google.com/github/chitrangada-juneja/CSC-380HWS/blob/main/Copy_of_CSC380HW1.ipynb\" target=\"_parent\"><img src=\"https://colab.research.google.com/assets/colab-badge.svg\" alt=\"Open In Colab\"/></a>"
      ]
    },
    {
      "cell_type": "code",
      "execution_count": null,
      "metadata": {
        "id": "EFrlkguS-rke"
      },
      "outputs": [],
      "source": [
        "\n",
        "#Q2\n",
        "import numpy as np\n",
        "#dice_data= [ 1,2,3,4,5,6] #faces of a dice\n",
        "#arr_dice= np.array(dice_data)\n",
        "\n",
        "np.random.seed(2024)\n",
        "dice1= np.random.randint(1,7,size=1000) #first dice roll\n",
        "dice2= np.random.randint(1,7,size=1000)\n",
        "\n",
        "total_sum=dice1+dice2\n",
        "sum_E=(total_sum==8)\n",
        "empirical_f= np.sum(sum_E)/1000 *100\n",
        "\n",
        "print(empirical_f)"
      ]
    },
    {
      "cell_type": "code",
      "source": [
        "#Q3\n",
        "import numpy as np\n",
        "#dice_data= [ 1,2,3,4,5,6] #faces of a dice\n",
        "#arr_dice= np.array(dice_data)\n",
        "\n",
        "np.random.seed(2024)\n",
        "empirical_fArray=[]\n",
        "\n",
        "for i in range (10):\n",
        "    dice1 = np.random.randint(1, 7, size=1000)  # first dice roll\n",
        "    dice2 = np.random.randint(1, 7, size=1000)\n",
        "\n",
        "    total_sum = dice1 + dice2\n",
        "    sum_E = (total_sum == 8)\n",
        "    empirical_f = float(np.sum(sum_E) / 1000 * 100)\n",
        "    empirical_fArray.append(empirical_f)\n",
        "\n",
        "print(empirical_fArray)\n"
      ],
      "metadata": {
        "id": "nJTI4JbX-sdh"
      },
      "execution_count": null,
      "outputs": []
    },
    {
      "cell_type": "code",
      "source": [
        "#Q4\n",
        "import numpy as np\n",
        "np.random.seed(2024)\n",
        "A=[2,4,6]\n",
        "B=[1,2,3,4]\n",
        "intersection=[2,4]\n",
        "dice= np.random.randint(1,7,size=1000)\n",
        "\n",
        "count_A= np.isin(dice,A)\n",
        "count_B=np.isin(dice,B)\n",
        "count_intersection=np.isin(dice, intersection)\n",
        "\n",
        "empirical_a = float(np.sum(count_A) / 1000 )\n",
        "empirical_b=float(np.sum(count_B)/1000)\n",
        "empirical_intersect= float(np.sum(count_intersection)/1000)\n",
        "\n",
        "product_ab= empirical_a * empirical_b\n",
        "\n",
        "print(\" Probability of A \", empirical_a)\n",
        "print(\" Probability of B \", empirical_b)\n",
        "print(\" Probability of A Intersection B \", empirical_intersect)\n",
        "print(\"Probability of A * Probability of B \", product_ab)\n",
        "print(\"since the product is approximately the product of the events, we can say the events are independent\")\n",
        "\n",
        "\n",
        "\n",
        "\n",
        "\n",
        "\n",
        "\n",
        "\n",
        "\n",
        "\n",
        "\n",
        "\n"
      ],
      "metadata": {
        "id": "KWEAY_0s-7ft"
      },
      "execution_count": null,
      "outputs": []
    },
    {
      "cell_type": "code",
      "source": [
        "#Q5\n",
        "import numpy as np\n",
        "np.random.seed(2024)\n",
        "A=[2,3,4,6]\n",
        "B=[1,2,3,4]\n",
        "intersection=[2,3,4]\n",
        "dice= np.random.randint(1,7,size=1000)\n",
        "\n",
        "count_A= np.isin(dice,A)\n",
        "count_B=np.isin(dice,B)\n",
        "count_intersection=np.isin(dice, intersection)\n",
        "\n",
        "empirical_a = float(np.sum(count_A) / 1000 )\n",
        "empirical_b=float(np.sum(count_B)/1000)\n",
        "empirical_intersect= float(np.sum(count_intersection)/1000)\n",
        "\n",
        "product_ab= empirical_a * empirical_b\n",
        "\n",
        "print(\" Probability of A \", empirical_a)\n",
        "print(\" Probability of B \", empirical_b)\n",
        "print(\" Probability of A Intersection B \", empirical_intersect)\n",
        "print(\"Probability of A * Probability of B \", product_ab)\n",
        "print(\"since the product is not equal, we can say they are not independent.\")\n",
        "\n",
        "\n",
        "\n",
        "\n",
        "\n",
        "\n",
        "\n",
        "\n",
        "\n",
        "\n",
        "\n",
        "\n"
      ],
      "metadata": {
        "id": "qY_uSHkt--j0"
      },
      "execution_count": null,
      "outputs": []
    }
  ]
}